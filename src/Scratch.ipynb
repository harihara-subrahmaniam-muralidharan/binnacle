{
 "cells": [
  {
   "cell_type": "code",
   "execution_count": 73,
   "metadata": {},
   "outputs": [
    {
     "data": {
      "text/plain": [
       "<module 'Compute_Scaffold_Coverages_Utility' from '/Users/harihara/Research-Activities/Codes/binnacle/src/Compute_Scaffold_Coverages_Utility.py'>"
      ]
     },
     "execution_count": 73,
     "metadata": {},
     "output_type": "execute_result"
    }
   ],
   "source": [
    "import Binnacle_IO_Utility as b\n",
    "import Compute_Scaffold_Coverages_Utility as c\n",
    "from importlib import reload  \n",
    "import networkx as nx\n",
    "reload(b)\n",
    "reload(c)"
   ]
  },
  {
   "cell_type": "code",
   "execution_count": 71,
   "metadata": {},
   "outputs": [],
   "source": [
    "graph_path = '/Users/harihara/Mount/MetaCarvel_paper/hmp_scaffolds/stool/SRS012902/SRS012902_scaffolds/oriented.gml'\n",
    "coverage_path = '/Users/harihara/Research-Activities/Data/Binnacle-Op/genomecov_d/SRS012902.txt'\n",
    "contigs_path = '/Users/harihara/Mount/MetaCarvel_paper/hmp_scaffolds/stool/SRS012902/SRS012902.fna'\n",
    "outdir = '/Users/harihara/Research-Activities/Data/Binnacle-Op/Binnacle_Scaffold_Coverages/SRS077194/'"
   ]
  },
  {
   "cell_type": "code",
   "execution_count": 70,
   "metadata": {},
   "outputs": [
    {
     "name": "stdout",
     "output_type": "stream",
     "text": [
      "<class 'pandas.core.frame.DataFrame'>\n",
      "Index: 13432247 entries, 100 to contig-100_992.15507\n",
      "Data columns (total 2 columns):\n",
      "Loc         int64\n",
      "coverage    int32\n",
      "dtypes: int32(1), int64(1)\n",
      "memory usage: 256.2+ MB\n",
      "None\n"
     ]
    }
   ],
   "source": [
    "df_coverage, G = b.Load_Read_Coverage_and_Assembly_Graph(graph_path, coverage_path) "
   ]
  },
  {
   "cell_type": "code",
   "execution_count": 76,
   "metadata": {},
   "outputs": [],
   "source": [
    "conn_comps = list(nx.weakly_connected_component_subgraphs(G))\n",
    "test = conn_comps[16]\n",
    "nodes = list(test.nodes())\n",
    "min_node, min_indegree = c.Return_Starting_Point(test)\n",
    "df_cov = df_coverage.loc[nodes]\n",
    "coverage, df_depths = c.Compute_Coverage(test, df_cov, min_node)\n",
    "mean_ratios = c.Helper_Changepoints(deepcopy(coverage))\n",
    "outliers = c.ID_Peaks(mean_ratios)\n",
    "outliers = c.Filter_Neighbors(outliers, mean_ratios)\n",
    "g_removed = c.Get_Outlier_Contigs(outliers, coords, test, 100)\n",
    "            "
   ]
  },
  {
   "cell_type": "code",
   "execution_count": null,
   "metadata": {},
   "outputs": [],
   "source": []
  }
 ],
 "metadata": {
  "kernelspec": {
   "display_name": "Python 3",
   "language": "python",
   "name": "python3"
  },
  "language_info": {
   "codemirror_mode": {
    "name": "ipython",
    "version": 3
   },
   "file_extension": ".py",
   "mimetype": "text/x-python",
   "name": "python",
   "nbconvert_exporter": "python",
   "pygments_lexer": "ipython3",
   "version": "3.7.3"
  }
 },
 "nbformat": 4,
 "nbformat_minor": 2
}
