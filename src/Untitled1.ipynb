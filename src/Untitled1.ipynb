{
 "cells": [
  {
   "cell_type": "code",
   "execution_count": 20,
   "metadata": {},
   "outputs": [],
   "source": [
    "import numpy as np\n",
    "import pandas as pd\n",
    "from os import listdir\n",
    "import networkx as nx\n",
    "from copy import deepcopy\n",
    "import matplotlib.pyplot as plt\n",
    "import Compute_Scaffold_Coverages_Utility as cc\n",
    "from importlib import reload\n",
    "import sqlite3\n",
    "\n",
    "def Load_Read_Coverage_and_Assembly_Graph(graphpath, covpath):\n",
    "    G = nx.read_gml(graphpath)\n",
    "    nodes = list(G.nodes())\n",
    "    df_coverage = pd.DataFrame()\n",
    "    it = 0\n",
    "    df_coverage_chunks = pd.read_csv(covpath,names = ['Contig','Loc','coverage'], \n",
    "                              sep = '\\t', low_memory = True, memory_map = True, \n",
    "                              dtype = {'Contig': str, 'Loc': 'int32', 'coverage': 'int32'},\n",
    "                              engine='c', chunksize = 500000, index_col = ['Contig'])\n",
    "    for chunk in df_coverage_chunks:\n",
    "        it += 1\n",
    "        chunk.index = chunk.index.astype('str')\n",
    "        nodes_pres = list(set(chunk.index.tolist()).intersection(set(nodes)))\n",
    "        nodes_pres.sort()\n",
    "        if len(nodes_pres) > 0:\n",
    "            temp = chunk.loc[nodes_pres]\n",
    "            temp = temp.reset_index()\n",
    "            df_coverage = pd.concat([df_coverage, temp])\n",
    "    df_coverage['Loc'] = df_coverage['Loc']-1\n",
    "    df_coverage = df_coverage.set_index('Contig')\n",
    "    print(df_coverage.info())\n",
    "    return df_coverage, G"
   ]
  },
  {
   "cell_type": "code",
   "execution_count": 11,
   "metadata": {},
   "outputs": [],
   "source": [
    "graphspath = '/Users/harihara/Mount/MetaCarvel_paper/hmp_scaffolds/stool/'\n",
    "covpath = '/Users/harihara/Research-Activities/Data/Binnacle-Op/genomecov_d/'"
   ]
  },
  {
   "cell_type": "code",
   "execution_count": 12,
   "metadata": {},
   "outputs": [],
   "source": [
    "sample = 'SRS104311'"
   ]
  },
  {
   "cell_type": "code",
   "execution_count": 13,
   "metadata": {},
   "outputs": [],
   "source": [
    "Graph_path= graphspath+sample+'/'+sample+'_scaffolds/oriented.gml'"
   ]
  },
  {
   "cell_type": "code",
   "execution_count": 14,
   "metadata": {},
   "outputs": [
    {
     "data": {
      "text/plain": [
       "<module 'Compute_Scaffold_Coverages_Utility' from '/Users/harihara/Research-Activities/Codes/binnacle/src/Compute_Scaffold_Coverages_Utility.py'>"
      ]
     },
     "execution_count": 14,
     "metadata": {},
     "output_type": "execute_result"
    }
   ],
   "source": [
    "reload(cc)"
   ]
  },
  {
   "cell_type": "code",
   "execution_count": null,
   "metadata": {},
   "outputs": [],
   "source": [
    "%%time\n",
    "Load_Read_Coverage_and_Assembly_Graph(Graph_path, covpath+sample+'.txt')"
   ]
  },
  {
   "cell_type": "code",
   "execution_count": null,
   "metadata": {},
   "outputs": [],
   "source": []
  }
 ],
 "metadata": {
  "kernelspec": {
   "display_name": "Python 3",
   "language": "python",
   "name": "python3"
  },
  "language_info": {
   "codemirror_mode": {
    "name": "ipython",
    "version": 3
   },
   "file_extension": ".py",
   "mimetype": "text/x-python",
   "name": "python",
   "nbconvert_exporter": "python",
   "pygments_lexer": "ipython3",
   "version": "3.7.3"
  }
 },
 "nbformat": 4,
 "nbformat_minor": 2
}
