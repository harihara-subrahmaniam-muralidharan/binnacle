{
 "cells": [
  {
   "cell_type": "code",
   "execution_count": 91,
   "metadata": {},
   "outputs": [],
   "source": [
    "import numpy as np\n",
    "import pandas as pd\n",
    "from os import listdir\n",
    "import networkx as nx\n",
    "from copy import deepcopy\n",
    "import matplotlib.pyplot as plt\n",
    "import Compute_Scaffold_Coverages_Utility as cc\n",
    "from importlib import reload\n",
    "\n",
    "colors = ['red','blue','green','cyan','yellow',\n",
    "          'magenta','grey','black','gold','purple',\n",
    "          'indigo','orange','olive','pink','violet']\n",
    "\n",
    "def Plot_Cycle_Coverages(conn, df_coverage):\n",
    "    cycles = list(nx.simple_cycles(conn))\n",
    "    if len(cycles) > 1:\n",
    "        return\n",
    "    else:\n",
    "        fig,ax = plt.subplots(1,1,figsize = (16,10))\n",
    "        print(cycles)\n",
    "        for i in range(1, len(cycles[0])):\n",
    "            g_ = deepcopy(conn)\n",
    "            print(len(g_.edges()))\n",
    "            edge = (cycles[0][i-1], cycles[0][i])\n",
    "            g_.remove_edge(*edge)\n",
    "            coverage, longest_coverage, df_depths = cc.Compute_Coverage(g_, df_coverage)\n",
    "            ax.plot(coverage, color = colors[i], label = str(edge))\n",
    "            print(edge, conn.edges[edge]['mean'], conn.edges[edge]['bsize'])\n",
    "            print(df_depths.head())\n",
    "        ax.legend()\n",
    "        fig.tight_layout()\n",
    "    return fig"
   ]
  },
  {
   "cell_type": "code",
   "execution_count": 80,
   "metadata": {},
   "outputs": [],
   "source": [
    "graphspath = '/Users/harihara/Mount/MetaCarvel_paper/hmp_scaffolds/stool/'\n",
    "covpath = '/Users/harihara/Research-Activities/Data/Binnacle-Op/genomecov_d/'\n",
    "samples = listdir(covpath)\n",
    "samples.sort()\n",
    "sample = 'SRS143342'\n",
    "reload(cc)\n",
    "G = nx.read_gml(graphspath+sample+'/'+sample+'_scaffolds/oriented.gml')"
   ]
  },
  {
   "cell_type": "code",
   "execution_count": 81,
   "metadata": {
    "scrolled": true
   },
   "outputs": [
    {
     "name": "stdout",
     "output_type": "stream",
     "text": [
      "<class 'pandas.core.frame.DataFrame'>\n",
      "Index: 69893138 entries, 10003 to contig-100_9995.106104\n",
      "Data columns (total 2 columns):\n",
      "Loc         int64\n",
      "coverage    int32\n",
      "dtypes: int32(1), int64(1)\n",
      "memory usage: 1.3+ GB\n",
      "None\n"
     ]
    }
   ],
   "source": [
    "Graph_path= graphspath+sample+'/'+sample+'_scaffolds/oriented.gml'\n",
    "df_coverage, G = cc.Load_Read_Coverage_and_Assembly_Graph(Graph_path, covpath+sample+'.txt')"
   ]
  },
  {
   "cell_type": "code",
   "execution_count": 92,
   "metadata": {
    "scrolled": true
   },
   "outputs": [],
   "source": [
    "conn_comps = list(nx.weakly_connected_component_subgraphs(G))\n",
    "test = conn_comps[2026]\n",
    "min_node, min_indegree = cc.Return_Starting_Point(test)\n",
    "if min_indegree > 0:\n",
    "    test = cc.Random_Simplify(test, min_node)\n",
    "nodes = list(test.nodes())\n",
    "df_coverage_cc = df_coverage.loc[nodes]\n",
    "coverage, df_depths = cc.Compute_Coverage(test, df_coverage_cc, min_node)\n",
    "coords = dict(zip(df_depths.index.tolist(), df_depths['Coords'].tolist()))\n",
    "mean_ratios = cc.Helper_Changepoints(deepcopy(coverage))\n",
    "outliers = cc.ID_Peaks(mean_ratios)\n",
    "outliers = cc.Filter_Neighbors(outliers, mean_ratios)\n",
    "top_sort = df_depths.index.tolist()\n",
    "Pos_Dict = cc.Return_Contig_Scaffold_Positions(coords)\n",
    "df_depths = df_depths.loc[top_sort]\n",
    "g_removed = cc.Get_Outlier_Contigs(outliers, Pos_Dict, coords, test, 100)\n",
    "        "
   ]
  },
  {
   "cell_type": "code",
   "execution_count": 61,
   "metadata": {
    "scrolled": true
   },
   "outputs": [
    {
     "name": "stdout",
     "output_type": "stream",
     "text": [
      "11 Nodes 3 1\n",
      "1021 1\n",
      "contig-100_2011.2011 1\n",
      "contig-100_3780.3780 1\n",
      "********** \n",
      "\n",
      "\n",
      "18 Nodes 5 1\n",
      "contig-100_184.17412 1\n",
      "1034 0\n",
      "contig-100_1189.18417 2\n",
      "contig-100_736.17964 1\n",
      "contig-100_1035.18263 1\n",
      "********** \n",
      "\n",
      "\n",
      "33 Nodes 22 1\n",
      "contig-100_2231.16746 1\n",
      "810 0\n",
      "contig-100_2846.2846 2\n",
      "contig-100_714.15229 1\n",
      "contig-100_2320.16835 1\n",
      "539 1\n",
      "1294 2\n",
      "816 2\n",
      "732 2\n",
      "contig-100_2373.2373 2\n",
      "contig-100_187.17415 1\n",
      "902 1\n",
      "contig-100_2269.16784 1\n",
      "contig-100_1002.18230 2\n",
      "contig-100_5202.5202 1\n",
      "contig-100_1891.16406 0\n",
      "1063 1\n",
      "1083 1\n",
      "contig-100_1502.16017 1\n",
      "contig-100_180.14695 2\n",
      "contig-100_2232.16747 1\n",
      "contig-100_4908.4908 0\n",
      "********** \n",
      "\n",
      "\n",
      "39 Nodes 15 1\n",
      "contig-100_1068.15583 0\n",
      "contig-100_1848.16363 3\n",
      "387 1\n",
      "contig-100_810.15325 1\n",
      "1086 2\n",
      "contig-100_1799.16314 1\n",
      "contig-100_1245.15760 1\n",
      "1337 1\n",
      "949 1\n",
      "contig-100_3882.3882 1\n",
      "1300 2\n",
      "contig-100_1864.16379 2\n",
      "contig-100_2087.16602 0\n",
      "1157 1\n",
      "197 2\n",
      "********** \n",
      "\n",
      "\n",
      "48 Nodes 8 1\n",
      "contig-100_2131.2131 1\n",
      "contig-100_616.15131 1\n",
      "contig-100_3397.3397 1\n",
      "1123 2\n",
      "1358 2\n",
      "941 2\n",
      "contig-100_2228.16743 1\n",
      "contig-100_3044.3044 0\n",
      "********** \n",
      "\n",
      "\n",
      "63 Nodes 11 1\n",
      "552 0\n",
      "contig-100_2238.16753 1\n",
      "844 1\n",
      "921 1\n",
      "1483 1\n",
      "1387 1\n",
      "453 1\n",
      "1354 2\n",
      "1195 2\n",
      "1185 1\n",
      "1385 1\n",
      "********** \n",
      "\n",
      "\n",
      "69 Nodes 7 1\n",
      "318 0\n",
      "contig-100_1892.1892 0\n",
      "contig-100_391.14906 1\n",
      "contig-100_434.434 3\n",
      "165 1\n",
      "contig-100_200.17428 1\n",
      "1203 1\n",
      "********** \n",
      "\n",
      "\n",
      "158 Nodes 6 1\n",
      "contig-100_2127.2127 2\n",
      "79 0\n",
      "contig-100_7907.7907 0\n",
      "contig-100_58.14573 1\n",
      "189 2\n",
      "contig-100_4500.4500 1\n",
      "********** \n",
      "\n",
      "\n",
      "171 Nodes 6 1\n",
      "285 2\n",
      "410 1\n",
      "contig-100_812.15327 1\n",
      "contig-100_1852.16367 0\n",
      "contig-100_1572.16087 1\n",
      "contig-100_1526.16041 2\n",
      "********** \n",
      "\n",
      "\n",
      "233 Nodes 2 1\n",
      "contig-100_2173.2173 1\n",
      "661 1\n",
      "********** \n",
      "\n",
      "\n"
     ]
    }
   ],
   "source": [
    "ctr = 0\n",
    "for c in conn_comps[1:]:\n",
    "    \n",
    "    ctr += 1\n",
    "    if not nx.is_directed_acyclic_graph(c):\n",
    "        print(ctr, 'Nodes', len(c.nodes()), len(list(nx.simple_cycles(c))))\n",
    "        for node in c:\n",
    "            print(node, c.in_degree(node))\n",
    "        print('**********','\\n\\n')\n",
    "        #Plot_Cycle_Coverages(c, df_coverage.loc[list(c.nodes())])\n",
    "        #break"
   ]
  },
  {
   "cell_type": "code",
   "execution_count": 93,
   "metadata": {},
   "outputs": [
    {
     "data": {
      "text/plain": [
       "[<matplotlib.lines.Line2D at 0x7fcd4c88e550>]"
      ]
     },
     "execution_count": 93,
     "metadata": {},
     "output_type": "execute_result"
    },
    {
     "data": {
      "image/png": "[encoded data removed]",
      "text/plain": [
       "<Figure size 432x288 with 1 Axes>"
      ]
     },
     "metadata": {
      "needs_background": "light"
     },
     "output_type": "display_data"
    }
   ],
   "source": [
    "plt.plot(coverage)"
   ]
  },
  {
   "cell_type": "code",
   "execution_count": 94,
   "metadata": {},
   "outputs": [
    {
     "data": {
      "text/plain": [
       "8"
      ]
     },
     "execution_count": 94,
     "metadata": {},
     "output_type": "execute_result"
    }
   ],
   "source": [
    "len(nodes)"
   ]
  },
  {
   "cell_type": "code",
   "execution_count": 89,
   "metadata": {},
   "outputs": [
    {
     "data": {
      "text/plain": [
       "['2871',\n",
       " '17208',\n",
       " 'contig-100_1879.140091',\n",
       " 'contig-100_1411.139623',\n",
       " 'contig-100_600.138812',\n",
       " 'contig-100_2670.130142',\n",
       " 'contig-100_3542.141754',\n",
       " 'contig-100_2024.140236']"
      ]
     },
     "execution_count": 89,
     "metadata": {},
     "output_type": "execute_result"
    }
   ],
   "source": [
    "nodes"
   ]
  },
  {
   "cell_type": "code",
   "execution_count": 95,
   "metadata": {},
   "outputs": [
    {
     "data": {
      "text/plain": [
       "'2871'"
      ]
     },
     "execution_count": 95,
     "metadata": {},
     "output_type": "execute_result"
    }
   ],
   "source": [
    "min_node"
   ]
  },
  {
   "cell_type": "code",
   "execution_count": 98,
   "metadata": {},
   "outputs": [
    {
     "data": {
      "text/plain": [
       "2"
      ]
     },
     "execution_count": 98,
     "metadata": {},
     "output_type": "execute_result"
    }
   ],
   "source": [
    "len(list(nx.weakly_connected_component_subgraphs(g_removed)))#.weakly_connected_component_subgraphs())"
   ]
  },
  {
   "cell_type": "code",
   "execution_count": null,
   "metadata": {},
   "outputs": [],
   "source": []
  }
 ],
 "metadata": {
  "kernelspec": {
   "display_name": "Python 3",
   "language": "python",
   "name": "python3"
  },
  "language_info": {
   "codemirror_mode": {
    "name": "ipython",
    "version": 3
   },
   "file_extension": ".py",
   "mimetype": "text/x-python",
   "name": "python",
   "nbconvert_exporter": "python",
   "pygments_lexer": "ipython3",
   "version": "3.7.3"
  }
 },
 "nbformat": 4,
 "nbformat_minor": 2
}
