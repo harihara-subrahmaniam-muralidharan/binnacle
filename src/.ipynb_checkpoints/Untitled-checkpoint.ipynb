{
 "cells": [
  {
   "cell_type": "code",
   "execution_count": 66,
   "metadata": {},
   "outputs": [],
   "source": [
    "def Memoized_Rod_Cut(p, n, r, table_cost):\n",
    "    if r[n-1] > 0:\n",
    "        return r[n-1]\n",
    "    elif n==0:\n",
    "        return 0\n",
    "    else:\n",
    "        q = [-1]*n\n",
    "        #tot_tables\n",
    "        for i in range(0, n):\n",
    "            q[i] = p[i]+Memoized_Rod_Cut(p,n-i-1,r, table_cost)\n",
    "    min_q = min(q)\n",
    "    min_q_index = q.index(min_q)\n",
    "    if min_q_index == n-1:\n",
    "        print('No Cut')\n",
    "        cost = min_q\n",
    "    else:\n",
    "        print('Cut')\n",
    "        cost = min_q+(table_cost)\n",
    "    r[n-1] = cost\n",
    "    return cost\n",
    "\n",
    "def Prepare_Cost_Array(sequences, cost_of_table):\n",
    "    counts_so_far_dict = {sequences[0]:1}\n",
    "    cost_array = [0]*len(sequences)\n",
    "    cost_array[0] = cost_of_table\n",
    "    for i in range(1, len(sequences)):\n",
    "        s = sequences[i]\n",
    "        try:\n",
    "            counts_so_far_dict[s] += 1\n",
    "        except KeyError:\n",
    "            counts_so_far_dict[s] = 1\n",
    "        cnt_i = counts_so_far_dict[s]\n",
    "        if cnt_i == 1:\n",
    "            cost_array[i] = cost_array[i-1]\n",
    "        elif cnt_i == 2:\n",
    "            cost_array[i] = cost_array[i-1]+2\n",
    "        else:\n",
    "            cost_array[i] = cost_array[i-1]+1\n",
    "    return cost_array"
   ]
  },
  {
   "cell_type": "code",
   "execution_count": 67,
   "metadata": {},
   "outputs": [
    {
     "name": "stdout",
     "output_type": "stream",
     "text": [
      "[1, 3, 4, 5, 6]\n",
      "No Cut\n",
      "Cut\n",
      "Cut\n",
      "Cut\n",
      "Cut\n",
      "[1, 3, 5, 6, 7]\n",
      "7 \n",
      "\n"
     ]
    }
   ],
   "source": [
    "num_items = 1#int(input())\n",
    "op_list = []\n",
    "for i in range(num_items):\n",
    "    line_1 = ['5', '1']#str(input()).replace('\\n',\"\").split(' ')\n",
    "    n = int(line_1[0])\n",
    "    table_cost = int(line_1[1])\n",
    "    seq = ['1' ,'1' ,'1' ,'1' ,'1']#input().replace('\\n',\"\").split(' ')\n",
    "    for s in seq:\n",
    "        s = int(s)\n",
    "    p = Prepare_Cost_Array(seq, table_cost)\n",
    "    r = [-1]*(n)\n",
    "    print(p)\n",
    "    c = Memoized_Rod_Cut(p,n,r,table_cost)\n",
    "    print(r)\n",
    "    op_list.append(c)\n",
    "for o in op_list:\n",
    "    print(o, '\\n')"
   ]
  },
  {
   "cell_type": "code",
   "execution_count": null,
   "metadata": {},
   "outputs": [],
   "source": [
    "# op_list\n"
   ]
  },
  {
   "cell_type": "code",
   "execution_count": 5,
   "metadata": {},
   "outputs": [],
   "source": [
    "import sys"
   ]
  },
  {
   "cell_type": "code",
   "execution_count": 6,
   "metadata": {},
   "outputs": [
    {
     "ename": "AttributeError",
     "evalue": "module 'sys' has no attribute 'maxint'",
     "output_type": "error",
     "traceback": [
      "\u001b[0;31m---------------------------------------------------------------------------\u001b[0m",
      "\u001b[0;31mAttributeError\u001b[0m                            Traceback (most recent call last)",
      "\u001b[0;32m<ipython-input-6-142334c936a4>\u001b[0m in \u001b[0;36m<module>\u001b[0;34m\u001b[0m\n\u001b[0;32m----> 1\u001b[0;31m \u001b[0msys\u001b[0m\u001b[0;34m.\u001b[0m\u001b[0mmaxint\u001b[0m\u001b[0;34m\u001b[0m\u001b[0;34m\u001b[0m\u001b[0m\n\u001b[0m",
      "\u001b[0;31mAttributeError\u001b[0m: module 'sys' has no attribute 'maxint'"
     ]
    }
   ],
   "source": [
    "sys.maxint"
   ]
  },
  {
   "cell_type": "code",
   "execution_count": null,
   "metadata": {},
   "outputs": [],
   "source": []
  }
 ],
 "metadata": {
  "kernelspec": {
   "display_name": "Python 3",
   "language": "python",
   "name": "python3"
  },
  "language_info": {
   "codemirror_mode": {
    "name": "ipython",
    "version": 3
   },
   "file_extension": ".py",
   "mimetype": "text/x-python",
   "name": "python",
   "nbconvert_exporter": "python",
   "pygments_lexer": "ipython3",
   "version": "3.7.3"
  }
 },
 "nbformat": 4,
 "nbformat_minor": 2
}
