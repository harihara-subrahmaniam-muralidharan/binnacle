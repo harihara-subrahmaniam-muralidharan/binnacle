{
 "cells": [
  {
   "cell_type": "code",
   "execution_count": 13,
   "metadata": {},
   "outputs": [],
   "source": [
    "import numpy as np\n",
    "import pandas as pd\n",
    "import matplotlib.pyplot as plt\n",
    "from os import listdir\n",
    "\n",
    "bin_path = '/Users/harihara/Mount/projects/refining_bins_with_assembly_graphs/Scaffold_Coverage_binning/delinked_scaffold_bins/'\n",
    "coverage_path = '/Users/harihara/Mount-2/Coverages_After_Delinking/'\n"
   ]
  },
  {
   "cell_type": "code",
   "execution_count": 14,
   "metadata": {},
   "outputs": [],
   "source": [
    "def Get_Scaffolds(sample):\n",
    "    bin_ids = listdir(bin_path+sample+'_delinked_cc_bins/')\n",
    "    oplist = []\n",
    "    for bin_id in bin_ids:\n",
    "        lines = open(bin_path+sample+'_delinked_cc_bins/'+bin_id,'r').readlines()\n",
    "        for line in lines:\n",
    "            if line[0] == '>':\n",
    "                line = line.replace(\">\",\"\")\n",
    "                line = line.replace(\"\\n\",\"\")\n",
    "                d = {'Conected_Component_ID':line, 'BinID':bin_id.replace(\".fa\",\"\")}\n",
    "                if 'cc' in line: d['Type'] = 'Scaffold'\n",
    "                else: d['Type'] = 'Contig'\n",
    "                oplist.append(d)\n",
    "    df = pd.DataFrame(data = oplist)\n",
    "    return df\n",
    "\n",
    "def Load_Coverages(sample):\n",
    "    df_cov = pd.DataFrame(coverage_path+sample+'_Coverages.csv')\n",
    "    del df_cov['Unnamed: 0']"
   ]
  },
  {
   "cell_type": "code",
   "execution_count": null,
   "metadata": {},
   "outputs": [
    {
     "name": "stdout",
     "output_type": "stream",
     "text": [
      "['SRS104311_delinked_cc.18.fa', 'SRS104311_delinked_cc.54.fa', 'SRS104311_delinked_cc.169.fa', 'SRS104311_delinked_cc.60.fa', 'SRS104311_delinked_cc.155.fa', 'SRS104311_delinked_cc.32.fa', 'SRS104311_delinked_cc.102.fa', 'SRS104311_delinked_cc.11.fa', 'SRS104311_delinked_cc.147.fa', 'SRS104311_delinked_cc.79.fa', 'SRS104311_delinked_cc.117.fa', 'SRS104311_delinked_cc.51.fa', 'SRS104311_delinked_cc.46.fa', 'SRS104311_delinked_cc.10.fa', 'SRS104311_delinked_cc.93.fa', 'SRS104311_delinked_cc.88.fa', 'SRS104311_delinked_cc.74.fa', 'SRS104311_delinked_cc.31.fa', 'SRS104311_delinked_cc.12.fa', 'SRS104311_delinked_cc.7.fa', 'SRS104311_delinked_cc.53.fa', 'SRS104311_delinked_cc.156.fa', 'SRS104311_delinked_cc.61.fa', 'SRS104311_delinked_cc.142.fa', 'SRS104311_delinked_cc.41.fa', 'SRS104311_delinked_cc.44.fa', 'SRS104311_delinked_cc.141.fa', 'SRS104311_delinked_cc.162.fa', 'SRS104311_delinked_cc.173.fa', 'SRS104311_delinked_cc.4.fa', 'SRS104311_delinked_cc.144.fa', 'SRS104311_delinked_cc.66.fa', 'SRS104311_delinked_cc.171.fa', 'SRS104311_delinked_cc.1.fa', 'SRS104311_delinked_cc.110.fa', 'SRS104311_delinked_cc.150.fa', 'SRS104311_delinked_cc.101.fa', 'SRS104311_delinked_cc.73.fa', 'SRS104311_delinked_cc.13.fa', 'SRS104311_delinked_cc.164.fa', 'SRS104311_delinked_cc.2.fa', 'SRS104311_delinked_cc.103.fa', 'SRS104311_delinked_cc.47.fa', 'SRS104311_delinked_cc.65.fa', 'SRS104311_delinked_cc.67.fa', 'SRS104311_delinked_cc.78.fa', 'SRS104311_delinked_cc.49.fa', 'SRS104311_delinked_cc.77.fa', 'SRS104311_delinked_cc.153.fa', 'SRS104311_delinked_cc.55.fa', 'SRS104311_delinked_cc.57.fa', 'SRS104311_delinked_cc.148.fa', 'SRS104311_delinked_cc.82.fa', 'SRS104311_delinked_cc.133.fa', 'SRS104311_delinked_cc', 'SRS104311_delinked_cc.129.fa', 'SRS104311_delinked_cc.45.fa', 'SRS104311_delinked_cc.21.fa', 'SRS104311_delinked_cc.63.fa', 'SRS104311_delinked_cc.166.fa', 'SRS104311_delinked_cc.69.fa', 'SRS104311_delinked_cc.112.fa', 'SRS104311_delinked_cc.94.fa', 'SRS104311_delinked_cc.5.fa', 'SRS104311_delinked_cc.165.fa', 'SRS104311_delinked_cc.137.fa', 'SRS104311_delinked_cc.119.fa', 'SRS104311_delinked_cc.85.fa', 'SRS104311_delinked_cc.125.fa', 'SRS104311_delinked_cc.36.fa', 'SRS104311_delinked_cc.126.fa', 'SRS104311_delinked_cc.19.fa', 'SRS104311_delinked_cc.16.fa', 'SRS104311_delinked_cc.20.fa', 'SRS104311_delinked_cc.109.fa', 'SRS104311_delinked_cc.84.fa', 'SRS104311_delinked_cc.104.fa', 'SRS104311_delinked_cc.38.fa', 'SRS104311_delinked_cc.130.fa', 'SRS104311_delinked_cc.143.fa', 'SRS104311_delinked_cc.139.fa', 'SRS104311_delinked_cc.37.fa', 'SRS104311_delinked_cc.72.fa', 'SRS104311_delinked_cc.163.fa', 'SRS104311_delinked_cc.96.fa', 'SRS104311_delinked_cc.14.fa', 'SRS104311_delinked_cc.158.fa', 'SRS104311_delinked_cc.161.fa', 'SRS104311_delinked_cc.91.fa', 'SRS104311_delinked_cc.114.fa', 'SRS104311_delinked_cc.132.fa', 'SRS104311_delinked_cc.122.fa', 'SRS104311_delinked_cc.90.fa', 'SRS104311_delinked_cc.50.fa', 'SRS104311_delinked_cc.157.fa', 'SRS104311_delinked_cc.8.fa', 'SRS104311_delinked_cc.95.fa', 'SRS104311_delinked_cc.100.fa', 'SRS104311_delinked_cc.6.fa', 'SRS104311_delinked_cc.86.fa', 'SRS104311_delinked_cc.48.fa', 'SRS104311_delinked_cc.118.fa', 'SRS104311_delinked_cc.149.fa', 'SRS104311_delinked_cc.128.fa', 'SRS104311_delinked_cc.58.fa', 'SRS104311_delinked_cc.151.fa', 'SRS104311_delinked_cc.98.fa', 'SRS104311_delinked_cc.70.fa', 'SRS104311_delinked_cc.87.fa', 'SRS104311_delinked_cc.62.fa', 'SRS104311_delinked_cc.123.fa', 'SRS104311_delinked_cc.23.fa', 'SRS104311_delinked_cc.121.fa', 'SRS104311_delinked_cc.68.fa', 'SRS104311_delinked_cc.27.fa', 'SRS104311_delinked_cc.40.fa', 'SRS104311_delinked_cc.172.fa', 'SRS104311_delinked_cc.140.fa', 'SRS104311_delinked_cc.56.fa', 'SRS104311_delinked_cc.105.fa', 'SRS104311_delinked_cc.9.fa', 'SRS104311_delinked_cc.99.fa', 'SRS104311_delinked_cc.71.fa', 'SRS104311_delinked_cc.17.fa', 'SRS104311_delinked_cc.168.fa', 'SRS104311_delinked_cc.131.fa', 'SRS104311_delinked_cc.134.fa', 'SRS104311_delinked_cc.39.fa', 'SRS104311_delinked_cc.167.fa', 'SRS104311_delinked_cc.89.fa', 'SRS104311_delinked_cc.42.fa', 'SRS104311_delinked_cc.75.fa', 'SRS104311_delinked_cc.152.fa', 'SRS104311_delinked_cc.25.fa', 'SRS104311_delinked_cc.81.fa', 'SRS104311_delinked_cc.170.fa', 'SRS104311_delinked_cc.3.fa', 'SRS104311_delinked_cc.15.fa', 'SRS104311_delinked_cc.113.fa', 'SRS104311_delinked_cc.28.fa', 'SRS104311_delinked_cc.52.fa', 'SRS104311_delinked_cc.145.fa', 'SRS104311_delinked_cc.108.fa', 'SRS104311_delinked_cc.92.fa', 'SRS104311_delinked_cc.43.fa', 'SRS104311_delinked_cc.154.fa', 'SRS104311_delinked_cc.107.fa', 'SRS104311_delinked_cc.136.fa', 'SRS104311_delinked_cc.59.fa', 'SRS104311_delinked_cc.unbinned.fna', 'SRS104311_delinked_cc.30.fa', 'SRS104311_delinked_cc.116.fa', 'SRS104311_delinked_cc.124.fa', 'SRS104311_delinked_cc.97.fa', 'SRS104311_delinked_cc.120.fa', 'SRS104311_delinked_cc.76.fa', 'SRS104311_delinked_cc.115.fa', 'SRS104311_delinked_cc.24.fa', 'SRS104311_delinked_cc.106.fa', 'SRS104311_delinked_cc.138.fa', 'SRS104311_delinked_cc.159.fa', 'SRS104311_delinked_cc.22.fa', 'SRS104311_delinked_cc.29.fa', 'SRS104311_delinked_cc.35.fa', 'SRS104311_delinked_cc.64.fa', 'SRS104311_delinked_cc.146.fa', 'SRS104311_delinked_cc.33.fa', 'SRS104311_delinked_cc.174.fa', 'SRS104311_delinked_cc.34.fa', 'SRS104311_delinked_cc.127.fa', 'SRS104311_delinked_cc.26.fa', 'SRS104311_delinked_cc.83.fa', 'SRS104311_delinked_cc.80.fa', 'SRS104311_delinked_cc.111.fa', 'SRS104311_delinked_cc.135.fa', 'SRS104311_delinked_cc.160.fa']\n",
      "SRS104311_delinked_cc.18.fa\n",
      "SRS104311_delinked_cc.54.fa\n",
      "SRS104311_delinked_cc.169.fa\n",
      "SRS104311_delinked_cc.60.fa\n",
      "SRS104311_delinked_cc.155.fa\n",
      "SRS104311_delinked_cc.32.fa\n",
      "SRS104311_delinked_cc.102.fa\n",
      "SRS104311_delinked_cc.11.fa\n",
      "SRS104311_delinked_cc.147.fa\n",
      "SRS104311_delinked_cc.79.fa\n",
      "SRS104311_delinked_cc.117.fa\n",
      "SRS104311_delinked_cc.51.fa\n",
      "SRS104311_delinked_cc.46.fa\n",
      "SRS104311_delinked_cc.10.fa\n",
      "SRS104311_delinked_cc.93.fa\n",
      "SRS104311_delinked_cc.88.fa\n",
      "SRS104311_delinked_cc.74.fa\n",
      "SRS104311_delinked_cc.31.fa\n",
      "SRS104311_delinked_cc.12.fa\n",
      "SRS104311_delinked_cc.7.fa\n",
      "SRS104311_delinked_cc.53.fa\n"
     ]
    }
   ],
   "source": [
    "df_bins = Get_Scaffolds('SRS104311')"
   ]
  },
  {
   "cell_type": "code",
   "execution_count": null,
   "metadata": {},
   "outputs": [],
   "source": []
  }
 ],
 "metadata": {
  "kernelspec": {
   "display_name": "Python 3",
   "language": "python",
   "name": "python3"
  },
  "language_info": {
   "codemirror_mode": {
    "name": "ipython",
    "version": 3
   },
   "file_extension": ".py",
   "mimetype": "text/x-python",
   "name": "python",
   "nbconvert_exporter": "python",
   "pygments_lexer": "ipython3",
   "version": "3.7.3"
  }
 },
 "nbformat": 4,
 "nbformat_minor": 2
}
