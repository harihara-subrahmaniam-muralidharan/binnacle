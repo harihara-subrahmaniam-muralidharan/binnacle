{
 "cells": [
  {
   "cell_type": "code",
   "execution_count": 1,
   "metadata": {},
   "outputs": [
    {
     "data": {
      "text/plain": [
       "<module 'Binnacle_IO_Utility' from '/Users/harihara/Research-Activities/Codes/binnacle/src/Binnacle_IO_Utility.py'>"
      ]
     },
     "execution_count": 1,
     "metadata": {},
     "output_type": "execute_result"
    }
   ],
   "source": [
    "import Binnacle_IO_Utility as b\n",
    "from importlib import reload  \n",
    "import networkx as nx\n",
    "import pandas as pd\n",
    "reload(b)\n"
   ]
  },
  {
   "cell_type": "code",
   "execution_count": 2,
   "metadata": {},
   "outputs": [],
   "source": [
    "graph_path = '/Users/harihara/Mount-2/MetaCarvel_paper/hmp_scaffolds/stool/SRS077194/SRS077194_scaffolds/oriented.gml'\n",
    "coverage_path = '/Users/harihara/Research-Activities/Data/Binnacle-Op/genomecov_d/SRS077194.txt'\n",
    "contigs_path = '/Users/harihara/Mount-2/MetaCarvel_paper/hmp_scaffolds/stool/SRS012902/SRS077194.fna'"
   ]
  },
  {
   "cell_type": "code",
   "execution_count": null,
   "metadata": {},
   "outputs": [],
   "source": [
    "'''conn_comps = list(nx.weakly_connected_component_subgraphs(G))\n",
    "test = conn_comps[16]\n",
    "nodes = list(test.nodes())\n",
    "min_node, min_indegree = c.Return_Starting_Point(test)\n",
    "df_cov = df_coverage.loc[nodes]\n",
    "coverage, df_depths = c.Compute_Coverage(test, df_cov, min_node)\n",
    "mean_ratios = c.Helper_Changepoints(deepcopy(coverage))\n",
    "outliers = c.ID_Peaks(mean_ratios)\n",
    "outliers = c.Filter_Neighbors(outliers, mean_ratios)\n",
    "g_removed = c.Get_Outlier_Contigs(outliers, coords, test, 100)\n",
    "   '''         "
   ]
  },
  {
   "cell_type": "code",
   "execution_count": 6,
   "metadata": {},
   "outputs": [],
   "source": [
    "lines = open(coverage_path, 'r').readlines()"
   ]
  },
  {
   "cell_type": "code",
   "execution_count": 5,
   "metadata": {},
   "outputs": [
    {
     "ename": "NameError",
     "evalue": "name 'lines' is not defined",
     "output_type": "error",
     "traceback": [
      "\u001b[0;31m---------------------------------------------------------------------------\u001b[0m",
      "\u001b[0;31mNameError\u001b[0m                                 Traceback (most recent call last)",
      "\u001b[0;32m<ipython-input-5-b0e98cceec1f>\u001b[0m in \u001b[0;36m<module>\u001b[0;34m\u001b[0m\n\u001b[0;32m----> 1\u001b[0;31m \u001b[0mlen\u001b[0m\u001b[0;34m(\u001b[0m\u001b[0mlines\u001b[0m\u001b[0;34m)\u001b[0m\u001b[0;34m\u001b[0m\u001b[0;34m\u001b[0m\u001b[0m\n\u001b[0m",
      "\u001b[0;31mNameError\u001b[0m: name 'lines' is not defined"
     ]
    }
   ],
   "source": [
    "len(lines)"
   ]
  },
  {
   "cell_type": "code",
   "execution_count": null,
   "metadata": {},
   "outputs": [],
   "source": [
    "G = nx.read_gml(graph_path)\n",
    "nodes = list(G.nodes())\n",
    "newlist = []\n",
    "for l in lines:\n",
    "    tab = l.index('\\t')\n",
    "    if tab in nodes:\n",
    "        newlist.append(l.replace('\\n','').split('\\t'))\n",
    "\n",
    "df = pd.DataFrame(newlist, columns = ['Contig', 'Loc', 'coverage'], sep = '\\t',\n",
    "                 dtype = {'Contig': str, 'Loc': 'int32', 'coverage': 'int32'}, index = 'Contig')"
   ]
  }
 ],
 "metadata": {
  "kernelspec": {
   "display_name": "Python 3",
   "language": "python",
   "name": "python3"
  },
  "language_info": {
   "codemirror_mode": {
    "name": "ipython",
    "version": 3
   },
   "file_extension": ".py",
   "mimetype": "text/x-python",
   "name": "python",
   "nbconvert_exporter": "python",
   "pygments_lexer": "ipython3",
   "version": "3.7.3"
  }
 },
 "nbformat": 4,
 "nbformat_minor": 2
}
